{
 "cells": [
  {
   "cell_type": "code",
   "execution_count": 1,
   "metadata": {},
   "outputs": [
    {
     "name": "stdout",
     "output_type": "stream",
     "text": [
      "Requirement already satisfied: photutils in c:\\anaconda3\\lib\\site-packages (1.1.0)\n",
      "Requirement already satisfied: astropy>=4.0 in c:\\anaconda3\\lib\\site-packages (from photutils) (4.0.2)\n",
      "Requirement already satisfied: numpy>=1.17 in c:\\anaconda3\\lib\\site-packages (from photutils) (1.19.2)\n"
     ]
    }
   ],
   "source": [
    "!pip install photutils\n",
    "#NOTE!!! I had misunderstood the exact format by which we were supposed to align and combine our images. For some reason\n",
    "# I got it into my head that we were supposed to align and combine every image within a given night with other images from that night\n",
    "# that shared the same filter. I was not aware that we were in fact supposed to align and combine images within their own 6 image cycles.\n",
    "# instead of within their respective nights. I will make this change into my aligning and combining pipeline at a later date.\n",
    "# It shouldn't really change the structural process of extracting light curves, however, as the widget should still work properly after\n",
    "# I have sorted the master science images into their own single folder. It will only change the light curves by making them more numerous\n",
    "# (Since there will simply be several master science images per night instead of just one for every night)"
   ]
  },
  {
   "cell_type": "code",
   "execution_count": 2,
   "metadata": {},
   "outputs": [],
   "source": [
    "# # The standard fare:\n",
    "# import numpy as np\n",
    "# import matplotlib.pyplot as plt\n",
    "# import pandas as pd\n",
    "# from astropy.visualization import ZScaleInterval\n",
    "# %matplotlib inline\n",
    "# # Recall our use of this module to work with FITS files in Lab 4:\n",
    "# from astropy.io import fits \n",
    "\n",
    "\n",
    "# # This lets us use various Unix (or Unix-like) commands within Python:\n",
    "# import os \n",
    "\n",
    "# # We will see what this does shortly.\n",
    "# import glob \n",
    "# import astropy.time\n",
    "\n",
    "# import astropy.stats as stat\n",
    "# from astropy.stats import mad_std\n",
    "# from astropy.stats import sigma_clip\n",
    "# from photutils.utils import calc_total_error\n",
    "\n",
    "# from photutils import aperture_photometry, CircularAperture, CircularAnnulus, DAOStarFinder\n",
    "import numpy as np\n",
    "import matplotlib.pyplot as plt\n",
    "from astropy.wcs import WCS\n",
    "from astropy.io import fits, ascii\n",
    "from astropy.table import Table, Column\n",
    "from astropy.visualization import ZScaleInterval\n",
    "import astropy.time\n",
    "import pandas as pd\n",
    "import glob \n",
    "import scipy.signal\n",
    "import scipy.ndimage.interpolation as interp\n",
    "import shutil\n",
    "import pdb\n",
    "import photutils\n",
    "import astropy.stats as stat\n",
    "from astropy.stats import mad_std\n",
    "from astropy.stats import sigma_clip\n",
    "from photutils.utils import calc_total_error\n",
    "import os\n",
    "from pathlib import Path\n",
    "from photutils import aperture_photometry, CircularAperture, CircularAnnulus, DAOStarFinder\n",
    "from astropy import units as u\n",
    "from astropy.coordinates import SkyCoord  # High-level coordinates\n",
    "from astropy.coordinates import ICRS, Galactic, FK4, FK5  # Low-level frames\n",
    "from astropy.coordinates import Angle, Latitude, Longitude  # Angles\n",
    "import astropy.units as u"
   ]
  },
  {
   "cell_type": "code",
   "execution_count": 5,
   "metadata": {},
   "outputs": [],
   "source": [
    "#changing directory into where shift_methods is\n",
    "master_directory = 'C:/Users/Batmanlai Tsogt/Documents/College Work/Senior Year/AST341/Jupyter/light curves'"
   ]
  },
  {
   "cell_type": "code",
   "execution_count": 23,
   "metadata": {},
   "outputs": [
    {
     "name": "stdout",
     "output_type": "stream",
     "text": [
      "C:/Users/Batmanlai Tsogt/Documents/College Work/Senior Year/AST341/Jupyter/light curves/20210222\n",
      "C:/Users/Batmanlai Tsogt/Documents/College Work/Senior Year/AST341/Jupyter/light curves/20210223\n",
      "C:/Users/Batmanlai Tsogt/Documents/College Work/Senior Year/AST341/Jupyter/light curves/20210224\n",
      "C:/Users/Batmanlai Tsogt/Documents/College Work/Senior Year/AST341/Jupyter/light curves/20210225\n",
      "C:/Users/Batmanlai Tsogt/Documents/College Work/Senior Year/AST341/Jupyter/light curves/20210226\n",
      "C:/Users/Batmanlai Tsogt/Documents/College Work/Senior Year/AST341/Jupyter/light curves/20210228\n",
      "C:/Users/Batmanlai Tsogt/Documents/College Work/Senior Year/AST341/Jupyter/light curves/20210301\n",
      "C:/Users/Batmanlai Tsogt/Documents/College Work/Senior Year/AST341/Jupyter/light curves/20210302\n",
      "C:/Users/Batmanlai Tsogt/Documents/College Work/Senior Year/AST341/Jupyter/light curves/20210303\n",
      "C:/Users/Batmanlai Tsogt/Documents/College Work/Senior Year/AST341/Jupyter/light curves/20210306\n",
      "C:/Users/Batmanlai Tsogt/Documents/College Work/Senior Year/AST341/Jupyter/light curves/20210307\n",
      "C:/Users/Batmanlai Tsogt/Documents/College Work/Senior Year/AST341/Jupyter/light curves/20210308\n",
      "C:/Users/Batmanlai Tsogt/Documents/College Work/Senior Year/AST341/Jupyter/light curves/20210310\n",
      "C:/Users/Batmanlai Tsogt/Documents/College Work/Senior Year/AST341/Jupyter/light curves/20210311\n",
      "C:/Users/Batmanlai Tsogt/Documents/College Work/Senior Year/AST341/Jupyter/light curves/20210315\n",
      "C:/Users/Batmanlai Tsogt/Documents/College Work/Senior Year/AST341/Jupyter/light curves/20210317\n",
      "C:/Users/Batmanlai Tsogt/Documents/College Work/Senior Year/AST341/Jupyter/light curves/20210318\n",
      "C:/Users/Batmanlai Tsogt/Documents/College Work/Senior Year/AST341/Jupyter/light curves/20210319\n",
      "C:/Users/Batmanlai Tsogt/Documents/College Work/Senior Year/AST341/Jupyter/light curves/20210320\n",
      "C:/Users/Batmanlai Tsogt/Documents/College Work/Senior Year/AST341/Jupyter/light curves/20210322\n"
     ]
    }
   ],
   "source": [
    "for root, dirs, files in os.walk(master_directory):\n",
    "            for i in dirs:\n",
    "                if '2021' in i:\n",
    "                    science_path_1 = master_directory+\"/\"+i\n",
    "                    print(science_path_1)\n",
    "                    os.chdir(science_path_1)\n",
    "                    yuhh = glob.glob('draw*')\n",
    "                    for i in yuhh:\n",
    "                        path = science_path_1 + '/' + i\n",
    "                        os.remove(path)"
   ]
  },
  {
   "cell_type": "code",
   "execution_count": null,
   "metadata": {},
   "outputs": [],
   "source": []
  }
 ],
 "metadata": {
  "kernelspec": {
   "display_name": "Python 3",
   "language": "python",
   "name": "python3"
  },
  "language_info": {
   "codemirror_mode": {
    "name": "ipython",
    "version": 3
   },
   "file_extension": ".py",
   "mimetype": "text/x-python",
   "name": "python",
   "nbconvert_exporter": "python",
   "pygments_lexer": "ipython3",
   "version": "3.8.5"
  }
 },
 "nbformat": 4,
 "nbformat_minor": 4
}
